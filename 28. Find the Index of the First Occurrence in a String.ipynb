{
 "cells": [
  {
   "cell_type": "code",
   "execution_count": null,
   "id": "fbe4f5ac",
   "metadata": {
    "vscode": {
     "languageId": "plaintext"
    }
   },
   "outputs": [],
   "source": [
    "Given two strings needle and haystack, return the index of the first occurrence of needle in haystack, or -1 if needle is not part of haystack.\n",
    "\n",
    " \n",
    "\n",
    "Example 1:\n",
    "Input: haystack = \"sadbutsad\", needle = \"sad\"\n",
    "Output: 0\n",
    "Explanation: \"sad\" occurs at index 0 and 6.\n",
    "The first occurrence is at index 0, so we return 0.\n",
    "\n",
    "\n",
    "Example 2:\n",
    "Input: haystack = \"leetcode\", needle = \"leeto\"\n",
    "Output: -1\n",
    "Explanation: \"leeto\" did not occur in \"leetcode\", so we return -1.\n",
    " \n",
    "\n",
    "Constraints:\n",
    "\n",
    "1 <= haystack.length, needle.length <= 104\n",
    "haystack and needle consist of only lowercase English characters."
   ]
  },
  {
   "cell_type": "code",
   "execution_count": null,
   "id": "8c3d54ae",
   "metadata": {
    "vscode": {
     "languageId": "plaintext"
    }
   },
   "outputs": [],
   "source": [
    "class Solution:\n",
    "    def strStr(self, haystack: str, needle: str) -> int:\n",
    "        if len(haystack)== len(needle):\n",
    "            if haystack == needle:\n",
    "                return 0\n",
    "        else:\n",
    "            for i in range(len(haystack)-len(needle)+1):\n",
    "                check = haystack[i:i+len(needle)]\n",
    "                print(check)\n",
    "                if check == needle:\n",
    "                    return i\n",
    "        return -1\n",
    "\n",
    "\n",
    "\n",
    "better solution:\n",
    "\n",
    "class Solution:\n",
    "    def strStr(self, haystack: str, needle: str) -> int:\n",
    "    return haystack.find(needle)"
   ]
  },
  {
   "cell_type": "code",
   "execution_count": null,
   "id": "1d526a1b",
   "metadata": {
    "vscode": {
     "languageId": "plaintext"
    }
   },
   "outputs": [],
   "source": []
  }
 ],
 "metadata": {
  "language_info": {
   "name": "python"
  }
 },
 "nbformat": 4,
 "nbformat_minor": 5
}
