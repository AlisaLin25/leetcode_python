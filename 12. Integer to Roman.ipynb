{
 "cells": [
  {
   "cell_type": "code",
   "execution_count": null,
   "id": "fbe4f5ac",
   "metadata": {
    "vscode": {
     "languageId": "plaintext"
    }
   },
   "outputs": [],
   "source": [
    "Seven different symbols represent Roman numerals with the following values:\n",
    "\n",
    "Symbol\tValue\n",
    "I\t1\n",
    "V\t5\n",
    "X\t10\n",
    "L\t50\n",
    "C\t100\n",
    "D\t500\n",
    "M\t1000\n",
    "Roman numerals are formed by appending the conversions of decimal place values from highest to lowest. Converting a decimal place value into a Roman numeral has the following rules:\n",
    "\n",
    "If the value does not start with 4 or 9, select the symbol of the maximal value that can be subtracted from the input, append that symbol to the result, subtract its value, and convert the remainder to a Roman numeral.\n",
    "If the value starts with 4 or 9 use the subtractive form representing one symbol subtracted from the following symbol, for example, 4 is 1 (I) less than 5 (V): IV and 9 is 1 (I) less than 10 (X): IX. Only the following subtractive forms are used: 4 (IV), 9 (IX), 40 (XL), 90 (XC), 400 (CD) and 900 (CM).\n",
    "Only powers of 10 (I, X, C, M) can be appended consecutively at most 3 times to represent multiples of 10. You cannot append 5 (V), 50 (L), or 500 (D) multiple times. If you need to append a symbol 4 times use the subtractive form.\n",
    "Given an integer, convert it to a Roman numeral.\n",
    "\n",
    " \n",
    "\n",
    "Example 1:\n",
    "Input: num = 3749\n",
    "\n",
    "Output: \"MMMDCCXLIX\"\n",
    "\n",
    "Explanation:\n",
    "\n",
    "3000 = MMM as 1000 (M) + 1000 (M) + 1000 (M)\n",
    " 700 = DCC as 500 (D) + 100 (C) + 100 (C)\n",
    "  40 = XL as 10 (X) less of 50 (L)\n",
    "   9 = IX as 1 (I) less of 10 (X)\n",
    "Note: 49 is not 1 (I) less of 50 (L) because the conversion is based on decimal places\n",
    "\n",
    "\n",
    "Example 2:\n",
    "Input: num = 58\n",
    "\n",
    "Output: \"LVIII\"\n",
    "\n",
    "Explanation:\n",
    "\n",
    "50 = L\n",
    " 8 = VIII\n",
    "\n",
    " \n",
    "Example 3:\n",
    "Input: num = 1994\n",
    "\n",
    "Output: \"MCMXCIV\"\n",
    "\n",
    "Explanation:\n",
    "\n",
    "1000 = M\n",
    " 900 = CM\n",
    "  90 = XC\n",
    "   4 = IV\n",
    " \n",
    "\n",
    "Constraints:\n",
    "\n",
    "1 <= num <= 3999"
   ]
  },
  {
   "cell_type": "code",
   "execution_count": null,
   "id": "8c3d54ae",
   "metadata": {
    "vscode": {
     "languageId": "plaintext"
    }
   },
   "outputs": [],
   "source": [
    "class Solution:\n",
    "    def intToRoman(self, num: int) -> str:\n",
    "        mapping = {\"I\":1, \"V\":5, \"X\":10, \"L\":50, \"C\":100, \"D\":500, \"M\":1000 }\n",
    "        output = \"\"\n",
    "        a = num % 10\n",
    "        if a:\n",
    "            output += \"I\"*a\n",
    "        output = output.replace(\"IIIIIIIII\", \"XI\")\n",
    "        output = output[::-1].replace(\"IIIII\", \"V\")[::-1]\n",
    "        output = output.replace(\"IIII\", \"VI\")\n",
    "\n",
    "\n",
    "        b = (num-a) % 100\n",
    "        if b:\n",
    "            output += \"X\"*int(b/10)\n",
    "        output = output.replace(\"XXXXXXXXX\", \"CX\")\n",
    "        output = output[::-1].replace(\"XXXXX\", \"L\")[::-1]\n",
    "        output = output.replace(\"XXXX\", \"LX\")\n",
    "\n",
    "\n",
    "        c = (num - b - a) % 1000\n",
    "        if c:\n",
    "            output += \"C\"*int(c/100)\n",
    "        output = output.replace(\"CCCCCCCCC\", \"MC\")\n",
    "        output = output[::-1].replace(\"CCCCC\", \"D\")[::-1]\n",
    "        output = output.replace(\"CCCC\", \"DC\")\n",
    "\n",
    "\n",
    "        d = num - (a + b + c)\n",
    "\n",
    "        if d:\n",
    "            output += \"M\"*int(d/1000)\n",
    "\n",
    "        return output[::-1]\n",
    "        \n",
    "        "
   ]
  },
  {
   "cell_type": "code",
   "execution_count": null,
   "id": "1d526a1b",
   "metadata": {
    "vscode": {
     "languageId": "plaintext"
    }
   },
   "outputs": [],
   "source": []
  }
 ],
 "metadata": {
  "language_info": {
   "name": "python"
  }
 },
 "nbformat": 4,
 "nbformat_minor": 5
}
