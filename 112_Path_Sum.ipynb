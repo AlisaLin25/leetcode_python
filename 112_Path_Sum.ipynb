{
 "cells": [
  {
   "cell_type": "code",
   "execution_count": null,
   "id": "cfd24828",
   "metadata": {
    "vscode": {
     "languageId": "plaintext"
    }
   },
   "outputs": [],
   "source": [
    "Given the root of a binary tree and an integer targetSum, return true if the tree has a root-to-leaf path such that adding up all the values along the path equals targetSum.\n",
    "\n",
    "A leaf is a node with no children.\n",
    "\n",
    " \n",
    "\n",
    "Example 1:\n",
    "Input: root = [5,4,8,11,null,13,4,7,2,null,null,null,1], targetSum = 22\n",
    "Output: true\n",
    "Explanation: The root-to-leaf path with the target sum is shown.\n",
    "\n",
    "Example 2:\n",
    "Input: root = [1,2,3], targetSum = 5\n",
    "Output: false\n",
    "Explanation: There are two root-to-leaf paths in the tree:\n",
    "(1 --> 2): The sum is 3.\n",
    "(1 --> 3): The sum is 4.\n",
    "There is no root-to-leaf path with sum = 5.\n",
    "\n",
    "Example 3:\n",
    "Input: root = [], targetSum = 0\n",
    "Output: false\n",
    "Explanation: Since the tree is empty, there are no root-to-leaf paths."
   ]
  },
  {
   "cell_type": "code",
   "execution_count": null,
   "id": "7b7df657",
   "metadata": {
    "vscode": {
     "languageId": "plaintext"
    }
   },
   "outputs": [],
   "source": [
    "# Definition for a binary tree node.\n",
    "# class TreeNode:\n",
    "#     def __init__(self, val=0, left=None, right=None):\n",
    "#         self.val = val\n",
    "#         self.left = left\n",
    "#         self.right = right\n",
    "class Solution:\n",
    "    def hasPathSum(self, root: Optional[TreeNode], targetSum: int) -> bool:\n",
    "\n",
    "        def dfs(node: Optional[TreeNode], current_sum:int) -> bool:\n",
    "            if not node:\n",
    "                return False\n",
    "\n",
    "            current_sum += node.val\n",
    "\n",
    "            if not node.left and not node.right:\n",
    "                if current_sum == targetSum:\n",
    "                    return True\n",
    "                else:\n",
    "                    return False\n",
    "            return dfs(node.left, current_sum) or dfs(node.right, current_sum)"
   ]
  }
 ],
 "metadata": {
  "language_info": {
   "name": "python"
  }
 },
 "nbformat": 4,
 "nbformat_minor": 5
}
