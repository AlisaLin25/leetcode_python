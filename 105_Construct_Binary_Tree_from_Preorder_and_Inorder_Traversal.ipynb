{
 "cells": [
  {
   "cell_type": "code",
   "execution_count": null,
   "id": "cfd24828",
   "metadata": {
    "vscode": {
     "languageId": "plaintext"
    }
   },
   "outputs": [],
   "source": [
    "Given two integer arrays preorder and inorder where preorder is the preorder traversal of a binary tree and inorder is the inorder traversal of the same tree, construct and return the binary tree.\n",
    "\n",
    "Example 1:\n",
    "Input: preorder = [3,9,20,15,7], inorder = [9,3,15,20,7]\n",
    "Output: [3,9,20,null,null,15,7]\n",
    "\n",
    "Example 2:\n",
    "Input: preorder = [-1], inorder = [-1]\n",
    "Output: [-1]\n"
   ]
  },
  {
   "cell_type": "code",
   "execution_count": null,
   "id": "7b7df657",
   "metadata": {
    "vscode": {
     "languageId": "plaintext"
    }
   },
   "outputs": [],
   "source": [
    "# Definition for a binary tree node.\n",
    "# class TreeNode:\n",
    "#     def __init__(self, val=0, left=None, right=None):\n",
    "#         self.val = val\n",
    "#         self.left = left\n",
    "#         self.right = right\n",
    "class Solution:\n",
    "    def buildTree(self, preorder: List[int], inorder: List[int]) -> Optional[TreeNode]:\n",
    "        if len(preorder) == 1 and len(inorder) == 1 and preorder[0] == inorder[0]:\n",
    "            return TreeNode(preorder[0])\n",
    "        if len(preorder) == 0 or len(inorder) == 0:\n",
    "            return None\n",
    "        \n",
    "        root_val = preorder[0]\n",
    "        root = TreeNode(root_val)\n",
    "        index_root = inorder.index(root_val)\n",
    "\n",
    "        left_inorder = inorder[:index_root]\n",
    "        right_inorder = inorder[index_root+1:]\n",
    "\n",
    "        left_preorder = preorder[1:1+len(left_inorder)]\n",
    "        right_preorder = preorder[1+len(left_inorder):]\n",
    "\n",
    "        root.left = self.buildTree(left_preorder, left_inorder)\n",
    "        root.right = self.buildTree(right_preorder, right_inorder)\n",
    "\n",
    "        return root\n",
    "\n",
    "        "
   ]
  }
 ],
 "metadata": {
  "language_info": {
   "name": "python"
  }
 },
 "nbformat": 4,
 "nbformat_minor": 5
}
