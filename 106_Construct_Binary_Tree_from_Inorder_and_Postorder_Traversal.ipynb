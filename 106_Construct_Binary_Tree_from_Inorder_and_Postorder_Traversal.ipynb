{
 "cells": [
  {
   "cell_type": "code",
   "execution_count": null,
   "id": "cfd24828",
   "metadata": {
    "vscode": {
     "languageId": "plaintext"
    }
   },
   "outputs": [],
   "source": [
    "Given two integer arrays inorder and postorder where inorder is the inorder traversal of a binary tree and postorder is the postorder traversal of the same tree, construct and return the binary tree.\n",
    "\n",
    "Example 1:\n",
    "Input: inorder = [9,3,15,20,7], postorder = [9,15,7,20,3]\n",
    "Output: [3,9,20,null,null,15,7]\n",
    "\n",
    "\n",
    "Example 2:\n",
    "Input: inorder = [-1], postorder = [-1]\n",
    "Output: [-1]\n"
   ]
  },
  {
   "cell_type": "code",
   "execution_count": null,
   "id": "7b7df657",
   "metadata": {
    "vscode": {
     "languageId": "plaintext"
    }
   },
   "outputs": [],
   "source": [
    "# Definition for a binary tree node.\n",
    "# class TreeNode:\n",
    "#     def __init__(self, val=0, left=None, right=None):\n",
    "#         self.val = val\n",
    "#         self.left = left\n",
    "#         self.right = right\n",
    "class Solution:\n",
    "    #inorder: left, root, right\n",
    "    #postorder: left, right, root\n",
    "    #preorder: root, left, right\n",
    "    def buildTree(self, inorder: List[int], postorder: List[int]) -> Optional[TreeNode]:\n",
    "        if len(inorder) == 1 and len(postorder) == 1 and inorder[0] == postorder[0]:\n",
    "            root = TreeNode(inorder[0])\n",
    "            return root\n",
    "        if not inorder or not postorder:\n",
    "            return None\n",
    "        \n",
    "        root_val = (postorder[-1] if len(postorder) > 1 else postorder[0])\n",
    "        root = TreeNode(root_val)\n",
    "        index_root = inorder.index(root_val)\n",
    "\n",
    "        inorder_left = inorder[:index_root]\n",
    "        inorder_right = inorder[index_root+1:]\n",
    "\n",
    "        postorder_left = postorder[:len(inorder_left)]\n",
    "        postorder_right = postorder[len(inorder_left):-1]\n",
    "\n",
    "        root.left = self.buildTree(inorder_left, postorder_left)\n",
    "        root.right = self.buildTree(inorder_right, postorder_right)\n",
    "\n",
    "        return root\n",
    "        "
   ]
  }
 ],
 "metadata": {
  "language_info": {
   "name": "python"
  }
 },
 "nbformat": 4,
 "nbformat_minor": 5
}
