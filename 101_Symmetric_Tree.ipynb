{
 "cells": [
  {
   "cell_type": "code",
   "execution_count": null,
   "id": "cfd24828",
   "metadata": {
    "vscode": {
     "languageId": "plaintext"
    }
   },
   "outputs": [],
   "source": [
    "Given the root of a binary tree, check whether it is a mirror of itself (i.e., symmetric around its center).\n",
    "\n",
    "Example 1:\n",
    "Input: root = [1,2,2,3,4,4,3]\n",
    "Output: true\n",
    "\n",
    "\n",
    "Example 2:\n",
    "Input: root = [1,2,2,null,3,null,3]\n",
    "Output: false\n"
   ]
  },
  {
   "cell_type": "code",
   "execution_count": null,
   "id": "7b7df657",
   "metadata": {
    "vscode": {
     "languageId": "plaintext"
    }
   },
   "outputs": [],
   "source": [
    "# Definition for a binary tree node.\n",
    "# class TreeNode:\n",
    "#     def __init__(self, val=0, left=None, right=None):\n",
    "#         self.val = val\n",
    "#         self.left = left\n",
    "#         self.right = right\n",
    "class Solution:\n",
    "    def isSymmetric(self, root: Optional[TreeNode]) -> bool:\n",
    "        def checkmirror(p: Optional[TreeNode],q: Optional[TreeNode]) -> bool:\n",
    "            if p and q:\n",
    "                return p.val == q.val and checkmirror(p.left, q.right) and checkmirror(p.right, q.left)\n",
    "            elif not p and not q:\n",
    "                return True\n",
    "            else:\n",
    "                return False\n",
    "        return checkmirror(root.right,root.left) \n",
    "\n",
    "        "
   ]
  }
 ],
 "metadata": {
  "language_info": {
   "name": "python"
  }
 },
 "nbformat": 4,
 "nbformat_minor": 5
}
