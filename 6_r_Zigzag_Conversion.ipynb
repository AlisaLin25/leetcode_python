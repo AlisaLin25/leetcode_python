{
 "cells": [
  {
   "cell_type": "code",
   "execution_count": null,
   "id": "fbe4f5ac",
   "metadata": {
    "vscode": {
     "languageId": "plaintext"
    }
   },
   "outputs": [],
   "source": [
    "The string \"PAYPALISHIRING\" is written in a zigzag pattern on a given number of rows like this: (you may want to display this pattern in a fixed font for better legibility)\n",
    "\n",
    "P   A   H   N\n",
    "A P L S I I G\n",
    "Y   I   R\n",
    "And then read line by line: \"PAHNAPLSIIGYIR\"\n",
    "\n",
    "Write the code that will take a string and make this conversion given a number of rows:\n",
    "\n",
    "string convert(string s, int numRows);\n",
    " \n",
    "\n",
    "Example 1:\n",
    "Input: s = \"PAYPALISHIRING\", numRows = 3\n",
    "Output: \"PAHNAPLSIIGYIR\"\n",
    "\n",
    "\n",
    "Example 2:\n",
    "Input: s = \"PAYPALISHIRING\", numRows = 4\n",
    "Output: \"PINALSIGYAHRPI\"\n",
    "Explanation:\n",
    "P     I    N\n",
    "A   L S  I G\n",
    "Y A   H R\n",
    "P     I\n",
    "\n",
    "\n",
    "Example 3:\n",
    "Input: s = \"A\", numRows = 1\n",
    "Output: \"A\"\n",
    " \n",
    "\n",
    "Constraints:\n",
    "\n",
    "1 <= s.length <= 1000\n",
    "s consists of English letters (lower-case and upper-case), ',' and '.'.\n",
    "1 <= numRows <= 1000"
   ]
  },
  {
   "cell_type": "code",
   "execution_count": null,
   "id": "8c3d54ae",
   "metadata": {
    "vscode": {
     "languageId": "plaintext"
    }
   },
   "outputs": [],
   "source": [
    "class Solution:\n",
    "    def convert(self, s: str, numRows: int) -> str:\n",
    "        if (len(s) <= numRows) or (numRows == 1):\n",
    "            return s\n",
    "        interval = numRows*2 - 2\n",
    "        # compute slice length (ceil division)\n",
    "        chunk = -(-len(s) // interval)   # ceil(len/rows)\n",
    "        reshaped = [s[i*interval:(i+1)*interval] for i in range(chunk)]\n",
    "        print(reshaped)\n",
    "        output = \"\"\n",
    "        for i in range(numRows):\n",
    "            if i == 0:\n",
    "                output += ''.join(r[0] for r in reshaped if len(r) > 0)\n",
    "            elif i == numRows -1:\n",
    "                output += ''.join(r[numRows-1] for r in reshaped if len(r)>(numRows-1))\n",
    "            else:\n",
    "                for r in reshaped:\n",
    "                    if len(r)>i:\n",
    "                        output += r[i]\n",
    "                    if len(r)>(interval-i):\n",
    "                        output += r[interval-i]\n",
    "\n",
    "        return output\n",
    "\n",
    "\n",
    "\n",
    "-------------------------------------------------------- Better Solution\n",
    "class Solution:\n",
    "    def convert(self, s: str, numRows: int) -> str:\n",
    "        if numRows == 1 or numRows >= len(s):\n",
    "            return s\n",
    "\n",
    "        rows = [''] * numRows\n",
    "        curr_row = 0\n",
    "        going_down = False\n",
    "\n",
    "        for c in s:\n",
    "            rows[curr_row] += c\n",
    "            # when reach upper or lower limit change direction\n",
    "            if curr_row == 0 or curr_row == numRows - 1:\n",
    "                going_down = not going_down\n",
    "            # depends on the direction change index\n",
    "            curr_row += 1 if going_down else -1\n",
    "\n",
    "        return ''.join(rows)\n",
    "\n",
    "        "
   ]
  },
  {
   "cell_type": "code",
   "execution_count": null,
   "id": "1d526a1b",
   "metadata": {
    "vscode": {
     "languageId": "plaintext"
    }
   },
   "outputs": [],
   "source": []
  }
 ],
 "metadata": {
  "language_info": {
   "name": "python"
  }
 },
 "nbformat": 4,
 "nbformat_minor": 5
}
