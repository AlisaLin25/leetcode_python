{
 "cells": [
  {
   "cell_type": "code",
   "execution_count": null,
   "id": "fbe4f5ac",
   "metadata": {
    "vscode": {
     "languageId": "plaintext"
    }
   },
   "outputs": [],
   "source": [
    "Given an input string s, reverse the order of the words.\n",
    "\n",
    "A word is defined as a sequence of non-space characters. The words in s will be separated by at least one space.\n",
    "\n",
    "Return a string of the words in reverse order concatenated by a single space.\n",
    "\n",
    "Note that s may contain leading or trailing spaces or multiple spaces between two words. The returned string should only have a single space separating the words. Do not include any extra spaces.\n",
    "\n",
    " \n",
    "\n",
    "Example 1:\n",
    "Input: s = \"the sky is blue\"\n",
    "Output: \"blue is sky the\"\n",
    "\n",
    "Example 2:\n",
    "Input: s = \"  hello world  \"\n",
    "Output: \"world hello\"\n",
    "Explanation: Your reversed string should not contain leading or trailing spaces.\n",
    "\n",
    "Example 3:\n",
    "Input: s = \"a good   example\"\n",
    "Output: \"example good a\"\n",
    "Explanation: You need to reduce multiple spaces between two words to a single space in the reversed string.\n",
    " \n",
    "\n",
    "Constraints:\n",
    "\n",
    "1 <= s.length <= 104\n",
    "s contains English letters (upper-case and lower-case), digits, and spaces ' '.\n",
    "There is at least one word in s."
   ]
  },
  {
   "cell_type": "code",
   "execution_count": null,
   "id": "8c3d54ae",
   "metadata": {
    "vscode": {
     "languageId": "plaintext"
    }
   },
   "outputs": [],
   "source": [
    "class Solution:\n",
    "    def reverseWords(self, s: str) -> str:\n",
    "        \n",
    "\n",
    "        return \" \".join(reversed(s.split()))"
   ]
  },
  {
   "cell_type": "code",
   "execution_count": null,
   "id": "1d526a1b",
   "metadata": {
    "vscode": {
     "languageId": "plaintext"
    }
   },
   "outputs": [],
   "source": []
  }
 ],
 "metadata": {
  "language_info": {
   "name": "python"
  }
 },
 "nbformat": 4,
 "nbformat_minor": 5
}
