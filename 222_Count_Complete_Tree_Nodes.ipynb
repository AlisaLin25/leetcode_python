{
 "cells": [
  {
   "cell_type": "code",
   "execution_count": null,
   "id": "cfd24828",
   "metadata": {
    "vscode": {
     "languageId": "plaintext"
    }
   },
   "outputs": [],
   "source": [
    "Given the root of a complete binary tree, return the number of the nodes in the tree.\n",
    "\n",
    "According to Wikipedia, every level, except possibly the last, is completely filled in a complete binary tree, and all nodes in the last level are as far left as possible. It can have between 1 and 2h nodes inclusive at the last level h.\n",
    "\n",
    "Design an algorithm that runs in less than O(n) time complexity.\n",
    "\n",
    " \n",
    "\n",
    "Example 1:\n",
    "Input: root = [1,2,3,4,5,6]\n",
    "Output: 6\n",
    "\n",
    "Example 2:\n",
    "Input: root = []\n",
    "Output: 0\n",
    "\n",
    "Example 3:\n",
    "Input: root = [1]\n",
    "Output: 1\n",
    " "
   ]
  },
  {
   "cell_type": "code",
   "execution_count": null,
   "id": "7b7df657",
   "metadata": {
    "vscode": {
     "languageId": "plaintext"
    }
   },
   "outputs": [],
   "source": [
    "# Definition for a binary tree node.\n",
    "# class TreeNode:\n",
    "#     def __init__(self, val=0, left=None, right=None):\n",
    "#         self.val = val\n",
    "#         self.left = left\n",
    "#         self.right = right\n",
    "class Solution:\n",
    "    def countNodes(self, root: Optional[TreeNode]) -> int:\n",
    "\n",
    "        def checkNode(count, root) -> int:\n",
    "            if root == None:\n",
    "                return 0\n",
    "            elif root.left == None and root.right == None:\n",
    "                return 1\n",
    "            else:\n",
    "                return 1 + checkNode(count, root.left) + checkNode(count, root.right)\n",
    "        return checkNode(0, root)"
   ]
  }
 ],
 "metadata": {
  "language_info": {
   "name": "python"
  }
 },
 "nbformat": 4,
 "nbformat_minor": 5
}
