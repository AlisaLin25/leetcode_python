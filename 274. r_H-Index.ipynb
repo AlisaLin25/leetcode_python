{
 "cells": [
  {
   "cell_type": "code",
   "execution_count": null,
   "id": "fbe4f5ac",
   "metadata": {
    "vscode": {
     "languageId": "plaintext"
    }
   },
   "outputs": [],
   "source": [
    "Given an array of integers citations where citations[i] is the number of citations a researcher received for their ith paper, return the researcher's h-index.\n",
    "\n",
    "According to the definition of h-index on Wikipedia: The h-index is defined as the maximum value of h such that the given researcher has published at least h papers that have each been cited at least h times.\n",
    "\n",
    " \n",
    "\n",
    "Example 1:\n",
    "Input: citations = [3,0,6,1,5]\n",
    "Output: 3\n",
    "Explanation: [3,0,6,1,5] means the researcher has 5 papers in total and each of them had received 3, 0, 6, 1, 5 citations respectively.\n",
    "Since the researcher has 3 papers with at least 3 citations each and the remaining two with no more than 3 citations each, their h-index is 3.\n",
    "\n",
    "\n",
    "Example 2:\n",
    "Input: citations = [1,3,1]\n",
    "Output: 1\n",
    " \n",
    "\n",
    "Constraints:\n",
    "\n",
    "n == citations.length\n",
    "1 <= n <= 5000\n",
    "0 <= citations[i] <= 1000"
   ]
  },
  {
   "cell_type": "code",
   "execution_count": null,
   "id": "8c3d54ae",
   "metadata": {
    "vscode": {
     "languageId": "plaintext"
    }
   },
   "outputs": [],
   "source": [
    "class Solution:\n",
    "    def hIndex(self, citations: List[int]) -> int:\n",
    "        if len(citations) == 1:\n",
    "            if citations[0] > 0:\n",
    "                return 1\n",
    "            else:\n",
    "                return 0\n",
    "        else:\n",
    "            citations.sort()\n",
    "            h_index = 0\n",
    "            for i in range(len(citations)+1):\n",
    "                count_tmp = sum(x >= i for x in citations)\n",
    "                if count_tmp >= i:\n",
    "                    h_index = i\n",
    "            \n",
    "            return h_index\n",
    "        \n",
    "\n",
    "Better solution\n",
    "\n",
    "class Solution:\n",
    "    def hIndex(self, citations: List[int]) -> int:\n",
    "        maxH = 0 \n",
    "        arraySize = len(citations)\n",
    "        if arraySize==1 and citations[0] !=0 :\n",
    "            return 1 \n",
    "        citations.sort()\n",
    "        \n",
    "        for i in range(arraySize):\n",
    "            papers = arraySize - i\n",
    "            if citations[i] >= papers:\n",
    "                maxH = papers\n",
    "                break;\n",
    "        return maxH"
   ]
  },
  {
   "cell_type": "code",
   "execution_count": null,
   "id": "1d526a1b",
   "metadata": {
    "vscode": {
     "languageId": "plaintext"
    }
   },
   "outputs": [],
   "source": []
  }
 ],
 "metadata": {
  "language_info": {
   "name": "python"
  }
 },
 "nbformat": 4,
 "nbformat_minor": 5
}
