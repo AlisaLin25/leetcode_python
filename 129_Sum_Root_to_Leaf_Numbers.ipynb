{
 "cells": [
  {
   "cell_type": "code",
   "execution_count": null,
   "id": "fbe4f5ac",
   "metadata": {
    "vscode": {
     "languageId": "plaintext"
    }
   },
   "outputs": [],
   "source": [
    "You are given the root of a binary tree containing digits from 0 to 9 only.\n",
    "\n",
    "Each root-to-leaf path in the tree represents a number.\n",
    "\n",
    "For example, the root-to-leaf path 1 -> 2 -> 3 represents the number 123.\n",
    "Return the total sum of all root-to-leaf numbers. Test cases are generated so that the answer will fit in a 32-bit integer.\n",
    "\n",
    "A leaf node is a node with no children.\n",
    "\n",
    " \n",
    "\n",
    "Example 1:\n",
    "Input: root = [1,2,3]\n",
    "Output: 25\n",
    "Explanation:\n",
    "The root-to-leaf path 1->2 represents the number 12.\n",
    "The root-to-leaf path 1->3 represents the number 13.\n",
    "Therefore, sum = 12 + 13 = 25.\n",
    "\n",
    "\n",
    "Example 2:\n",
    "Input: root = [4,9,0,5,1]\n",
    "Output: 1026\n",
    "Explanation:\n",
    "The root-to-leaf path 4->9->5 represents the number 495.\n",
    "The root-to-leaf path 4->9->1 represents the number 491.\n",
    "The root-to-leaf path 4->0 represents the number 40.\n",
    "Therefore, sum = 495 + 491 + 40 = 1026.\n",
    " \n",
    "\n",
    "Constraints:\n",
    "\n",
    "The number of nodes in the tree is in the range [1, 1000].\n",
    "0 <= Node.val <= 9\n",
    "The depth of the tree will not exceed 10."
   ]
  },
  {
   "cell_type": "code",
   "execution_count": null,
   "id": "8c3d54ae",
   "metadata": {
    "vscode": {
     "languageId": "plaintext"
    }
   },
   "outputs": [],
   "source": [
    "# Definition for a binary tree node.\n",
    "# class TreeNode:\n",
    "#     def __init__(self, val=0, left=None, right=None):\n",
    "#         self.val = val\n",
    "#         self.left = left\n",
    "#         self.right = right\n",
    "class Solution:\n",
    "    def sumNumbers(self, root: Optional[TreeNode]) -> int:\n",
    "\n",
    "        def sum_iter(root:Optional[TreeNode], current_sum) -> int:\n",
    "            current_sum_left = 0\n",
    "            current_sum_right = 0\n",
    "            \n",
    "            if root.left == None and root.right == None:\n",
    "                return current_sum\n",
    "            if root.left != None:\n",
    "                current_sum_left = sum_iter(root.left, current_sum * 10 + root.left.val)\n",
    "            if root.right != None:\n",
    "                current_sum_right = sum_iter(root.right, current_sum * 10 + root.right.val)\n",
    "            \n",
    "            return current_sum_left+current_sum_right\n",
    "\n",
    "\n",
    "        sum = sum_iter(root, root.val)\n",
    "        return sum"
   ]
  }
 ],
 "metadata": {
  "language_info": {
   "name": "python"
  }
 },
 "nbformat": 4,
 "nbformat_minor": 5
}
