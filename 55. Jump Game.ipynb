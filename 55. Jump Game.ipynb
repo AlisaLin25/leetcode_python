{
 "cells": [
  {
   "cell_type": "code",
   "execution_count": null,
   "id": "fbe4f5ac",
   "metadata": {
    "vscode": {
     "languageId": "plaintext"
    }
   },
   "outputs": [],
   "source": [
    "You are given an integer array nums. You are initially positioned at the array's first index, and each element in the array represents your maximum jump length at that position.\n",
    "\n",
    "Return true if you can reach the last index, or false otherwise.\n",
    "\n",
    " \n",
    "\n",
    "Example 1:\n",
    "Input: nums = [2,3,1,1,4]\n",
    "Output: true\n",
    "Explanation: Jump 1 step from index 0 to 1, then 3 steps to the last index.\n",
    "\n",
    "\n",
    "Example 2:\n",
    "Input: nums = [3,2,1,0,4]\n",
    "Output: false\n",
    "Explanation: You will always arrive at index 3 no matter what. Its maximum jump length is 0, which makes it impossible to reach the last index.\n",
    " \n",
    "\n",
    "Constraints:\n",
    "\n",
    "1 <= nums.length <= 104\n",
    "0 <= nums[i] <= 105"
   ]
  },
  {
   "cell_type": "code",
   "execution_count": null,
   "id": "8c3d54ae",
   "metadata": {
    "vscode": {
     "languageId": "plaintext"
    }
   },
   "outputs": [],
   "source": [
    "class Solution:\n",
    "    def canJump(self, nums: List[int]) -> bool:\n",
    "        max_reach = 0\n",
    "        for i in range(len(nums)):\n",
    "            if i > max_reach:\n",
    "                return False\n",
    "            max_reach = max(max_reach, i + nums[i])\n",
    "        return True\n",
    "            "
   ]
  },
  {
   "cell_type": "code",
   "execution_count": null,
   "id": "1d526a1b",
   "metadata": {
    "vscode": {
     "languageId": "plaintext"
    }
   },
   "outputs": [],
   "source": []
  }
 ],
 "metadata": {
  "language_info": {
   "name": "python"
  }
 },
 "nbformat": 4,
 "nbformat_minor": 5
}
