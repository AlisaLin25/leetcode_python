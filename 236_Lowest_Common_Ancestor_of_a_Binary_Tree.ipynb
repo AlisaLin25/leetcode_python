{
 "cells": [
  {
   "cell_type": "code",
   "execution_count": null,
   "id": "cfd24828",
   "metadata": {
    "vscode": {
     "languageId": "plaintext"
    }
   },
   "outputs": [],
   "source": [
    "Given a binary tree, find the lowest common ancestor (LCA) of two given nodes in the tree.\n",
    "\n",
    "According to the definition of LCA on Wikipedia: “The lowest common ancestor is defined between two nodes p and q as the lowest node in T that has both p and q as descendants (where we allow a node to be a descendant of itself).”\n",
    "\n",
    " \n",
    "\n",
    "Example 1:\n",
    "Input: root = [3,5,1,6,2,0,8,null,null,7,4], p = 5, q = 1\n",
    "Output: 3\n",
    "Explanation: The LCA of nodes 5 and 1 is 3.\n",
    "\n",
    "\n",
    "Example 2:\n",
    "Input: root = [3,5,1,6,2,0,8,null,null,7,4], p = 5, q = 4\n",
    "Output: 5\n",
    "Explanation: The LCA of nodes 5 and 4 is 5, since a node can be a descendant of itself according to the LCA definition.\n",
    "\n",
    "\n",
    "Example 3:\n",
    "Input: root = [1,2], p = 1, q = 2\n",
    "Output: 1"
   ]
  },
  {
   "cell_type": "code",
   "execution_count": null,
   "id": "7b7df657",
   "metadata": {
    "vscode": {
     "languageId": "plaintext"
    }
   },
   "outputs": [],
   "source": [
    "# Definition for a binary tree node.\n",
    "# class TreeNode:\n",
    "#     def __init__(self, x):\n",
    "#         self.val = x\n",
    "#         self.left = None\n",
    "#         self.right = None\n",
    "\n",
    "class Solution:\n",
    "    def lowestCommonAncestor(self, root: 'TreeNode', p: 'TreeNode', q: 'TreeNode') -> 'TreeNode':\n",
    "        # if root is empty return None\n",
    "        if not root:\n",
    "            return None\n",
    "\n",
    "        # if any of the wanted node is found, return the current node\n",
    "        if root == p or root == q:\n",
    "            return root\n",
    "\n",
    "        # recrussion through left and right sub-tree\n",
    "        left_check = self.lowestCommonAncestor(root.left, p, q)\n",
    "        right_check = self.lowestCommonAncestor(root.right, p, q)\n",
    "\n",
    "        # if left and right sub-tree has one wanted node seperately, then the LCA is root of the tree, otherwise the LCA is the first found node that matches either p or q\n",
    "        if left_check and right_check:\n",
    "            return root\n",
    "        else:\n",
    "            return left_check or right_check\n",
    "\n",
    "\n",
    "        "
   ]
  }
 ],
 "metadata": {
  "language_info": {
   "name": "python"
  }
 },
 "nbformat": 4,
 "nbformat_minor": 5
}
